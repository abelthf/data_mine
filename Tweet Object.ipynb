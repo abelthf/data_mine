{
 "cells": [
  {
   "cell_type": "markdown",
   "metadata": {},
   "source": [
    "## ¿QUE HAY EN UN TWEET?\n",
    "---\n",
    "\n",
    "## ¿Que hay en un Tweet? (1 de 7)\n",
    "\n",
    "* Los métodos de la API de Twitter devuelven objetos **JSON (JavaScript Object Notation)**\n",
    "* **Formato de intercambio de datos** basado en texto\n",
    "* Representa objetos como una **colección de pares name–value** (como diccionarios)\n",
    "* Comúnmente utilizado en servicios web\n",
    "* Legible por humanos y computadoras\n",
    "\n",
    "---\n",
    "\n",
    "## ¿Qué hay en un Tweet?\n",
    "\n",
    "* **Formato de objeto JSON:**\n",
    "        {propertyName1: value1, propertyName2: value2}\n",
    "* **Formato de array JSON:**\n",
    "        [value1, value2, value3]\n",
    "* **Tweepy maneja el JSON por** ti detrás de escena\n",
    "\n",
    "---\n",
    "\n",
    "## Propiedades clave de un objeto Tweet (3 de 7)\n",
    "\n",
    "* Un objeto de tweet (o **status update**) contiene atributos de **metadatos** que describen aspectos del tweet:\n",
    "     * cuando fue creado\n",
    "     * quien lo creó,\n",
    "     * lista de hastag, urls, @-menciones, imágenes, video y más\n",
    "\n",
    "- - -\n",
    "\n",
    "## Propiedades clave de un objeto Tweet (4 de 7)\n",
    "\n",
    "\n",
    "| Atributo \t| Descripción \t|\n",
    "|:---\t|:---\t|\n",
    "| **created_at** \t| La fecha y hora de creación en formato UTC (Coordinated Universal Time). \t|\n",
    "| **entities** \t| Twitter extrae usuarios de hastags, menciones de usuario (es decir, @` _usernamme`_ mentions), un medio (como imágenes y videos) símbolos y encuestas de tweets y los coloca en el diccionario de entidades como una lista a la que puede acceder con estas keys. \t|\n",
    "| extended_tweet \t| Para tweets de más de 140 caracteres, contiene detalles como full_tex y entidades del tweet. \t|\n",
    "| favorite_count \t| Número de veces que otros usuarios marcaron como favorito el tweet. \t|\n",
    "| coordinates \t| Las coordenadas (latitud y longitud) desde donde se envió el tweet. Esto a menudo es null (None en Python) porque muchos usuarios deshabilitan el envío de datos de ubicación. \t|\n",
    "\n",
    "---\n",
    "\n",
    "## Propiedades clave de un objeto Tweet (5 de 7)\n",
    "\n",
    "| **Atributo** | **Descripción** |\n",
    "|:---|:---|\n",
    "|**place**|Los usuarios pueden asociar un lugar con un tweet. Si lo hacen, se será un [objeto place:](https://developer.twitter.com/en/docs/tweets/data-dictionary/overview/geo-objects#place-dictionary.html) de lo contrario, será null (None en Python).|\n",
    "|**id**|El ID entero del tweet. Twitter recomienda usar la portabilidad id_str.|\n",
    "|**id_str**|La representación de cadena del ID entero del tweet.|\n",
    "|**lang**|Idioma del tweet, como 'en' para inglés o 'fr' para francés.|\n",
    "|**retweet_count**|Número de veces que otros usuarios han retuiteado el tweet.|\n",
    "|**text**|El texto del tweet. Si el tweet usa la nueva línea de 280 caracteres y contiene más de 140 caracteres, esta propiedad se truncará y la propiedad truncated se establecerá en verdadera. Esto también puede ocurrir si se retuiteara un tweet de 140 caracteres y se obtuvieran más de 140 caracteres como resultado.|\n",
    "|**user**|El objeto Usuario que representa al usuario que publicó el tweet. Para las propiedades JSON del [objeto Usuario](https://developer.twitter.com/en/docs/tweets/data-dictionary/overview/user-object.html)|\n",
    "\n",
    "---\n",
    "\n",
    "## Ejemplo de Tweet en JSON (6 de 7)\n",
    "* Veamos el JSON de muestra para el siguiente tweet de la cuenta @GluderQuispe:\n",
    "\n",
    "@NoFear1075 Great question, Anthony! Throughout its seven-year mission, our Parker #SolarProbe spacecraft... https://t.co/xKd6ym8waT'\n",
    "\n",
    "@UPeUOficial: ¡La educación no se detiene y cambia las vidas en todo el mundo! ¡El conocimiento te da la oportunidad de marcar la difere…\n",
    "\n",
    "* Algunos campos en el Tweet JSON no son devueltos por cada método API\n",
    "* Diferencias explicadas en los documentos en línea\n",
    "\n",
    "---\n",
    "\n",
    "```json\n",
    "\n",
    "{'created_at': 'Sat Aug 18 22:24:22 +0000 2012', \n",
    "'id': 1245577754994601984,\n",
    "'id_str': '1245577754994601984', \n",
    "'text': 'RT @UPeUOficial: ¡La educación no se detiene y cambia las vidas en todo el mundo! ¡El conocimiento te da la oportunidad de marcar la difere…', \n",
    "'truncated': False,\n",
    "'entities': {'hashtags': [], \n",
    "    'symbols': [],\n",
    "    'user_mentions': [{'screen_name': 'UPeUOficial',\n",
    "        'name': 'Universidad Peruana Unión',\n",
    "        'id': 123367713,\n",
    "        'id_str': '123367713',\n",
    "        'indices': [3, 15]}], \n",
    "'urls': []}, \n",
    "'source': '<a href=\"http://twitter.com/download/iphone\" rel=\"nofollow\">Twitter for iPhone</a>', 'in_reply_to_status_id': None,\n",
    "'in_reply_to_status_id_str': None, \n",
    "'in_reply_to_user_id': None, \n",
    "'in_reply_to_user_id_str': None, \n",
    "'in_reply_to_screen_name': None,\n",
    "'geo': None, \n",
    "'coordinates': None, \n",
    "'place': None, \n",
    "'contributors': None, \n",
    "'is_quote_status': False, \n",
    "'retweet_count': 17, \n",
    "'favorite_count': 26, \n",
    "'favorited': False, \n",
    "'retweeted': False, \n",
    "'possibly_sensitive': False, \n",
    "'lang': 'es'}, \n",
    "'contributors_enabled': False, \n",
    "'is_translator': False, \n",
    "'is_translation_enabled': False, 'profile_background_color': 'C6E2EE', \n",
    "'profile_background_image_url': 'http://abs.twimg.com/images/themes/theme2/bg.gif', \n",
    "'profile_background_image_url_https': 'https://abs.twimg.com/images/themes/theme2/bg.gif', \n",
    "'profile_background_tile': False, \n",
    "'profile_image_url': 'http://pbs.twimg.com/profile_images/1048817274763788289/n6SuTl9-_normal.jpg', \n",
    "'profile_image_url_https': 'https://pbs.twimg.com/profile_images/1048817274763788289/n6SuTl9-_normal.jpg', 'profile_banner_url': 'https://pbs.twimg.com/profile_banners/766480172/1554954695', 'profile_link_color': '1F98C7', 'profile_sidebar_border_color': 'C6E2EE', 'profile_sidebar_fill_color': 'DAECF4', 'profile_text_color': '663B12', 'profile_use_background_image': True, 'has_extended_profile': False, 'default_profile': False, 'default_profile_image': False, 'following': False, 'follow_request_sent': False, 'notifications': False, 'translator_type': 'none'}, id=766480172, id_str='766480172', \n",
    "    name='Gluder Quispe', \n",
    "    screen_name='GluderQuispe', \n",
    "    location='', \n",
    "    profile_location=None, \n",
    "    description='Rector de la Universidad Peruana Union.', \n",
    "    url=None, \n",
    "    entities={'description': {'urls': []}}, \n",
    "    protected=False,\n",
    "    followers_count=3736,\n",
    "    friends_count=111,\n",
    "    listed_count=3\n",
    "    created_at=datetime.datetime(2012, 8, 18, 22, 24, 22),\n",
    "    favourites_count=2805, \n",
    "    utc_offset=None, \n",
    "    time_zone=None, \n",
    "    geo_enabled=True, \n",
    "    verified=False,\n",
    "    statuses_count=3909,\n",
    "    'contributors': None}\n",
    "    \n",
    "```\n",
    "\n",
    "---\n",
    "\n",
    "## Recursos del objetto JSON de Twitter (7 de 7)\n",
    "\n",
    "* [Lista completa de los atributos del objeto tweet](https://developer.twitter.com/en/docs/tweets/data-dictionary/overview/tweet-object.html)\n",
    "* [Detalles adicionales que se agregaron cuando Twitter se movió de un límite de 140 a 280 caracteres por tweet](https://developer.twitter.com/en/docs/tweets/data-dictionary/overview/intro-to-tweet-json.html#extendedtweet)\n",
    "* [Descripción general de todos los objetos JSON que devuelven las API de Twitter y los enlaces a los detalles específicos del objeto](https://developer.twitter.com/en/docs/tweets/data-dictionary/overview/intro-to-tweet-json)"
   ]
  },
  {
   "cell_type": "markdown",
   "metadata": {},
   "source": [
    "## TWEEPY"
   ]
  },
  {
   "cell_type": "markdown",
   "metadata": {},
   "source": [
    "Usaremos la librería Tweepy -(http://www.tweepy.org)-  uno de las más populares Bibliotecas de Python para interactuar con las API de Twitter. Tweepy facilita el acceso a las capacidades de Twitter y le oculta los detalles del procesamiento de los objetos JSON devueltos por las API de Twitter. Puedes ver la documentación de Tweepy 7 y  otras bibliotecas6 de Python recomendadas por Twitter incluyen Birdy, python-twitter, Python Twitter Tools, TweetPony, TwitterAPI, twitter-gobject, TwitterSearch y twython. Consulte  https://developer.twitter.com/en/docs/developer-utilities/twitter-libraries.html  para obtener más información. \n",
    "\n",
    "La documentación de The Tweepy es un trabajo en progreso. Al momento de escribir este artículo, Tweepy no tiene documentación para sus clases correspondientes a los objetos JSON que devuelven las API de Twitter. Las clases de Tweepy utilizan los mismos nombres de atributos y la misma estructura que los objetos JSON. Puede determinar los nombres de atributo correctos para acceder consultando la documentación de Twitters JSON. Bien, explicaré cualquier atributo que usemos en nuestro código y proporcionaré notas a pie de página con enlaces a las descripciones de Twitter JSON.\n",
    "http://docs.tweepy.org/en/latest/\n",
    "Para información adicional y el código fuente de Tweepy, visite https://github.com/tweepy/tweepy\n"
   ]
  },
  {
   "cell_type": "markdown",
   "metadata": {},
   "source": [
    "**instalación de tweepy**\n",
    "\n",
    "Para instalar Tweepy, abra su Prompt Anaconda (Windows), Terminal (macOS / Linux) o shell (Linux), luego ejecute el siguiente comando:\n"
   ]
  },
  {
   "cell_type": "code",
   "execution_count": 32,
   "metadata": {},
   "outputs": [
    {
     "name": "stdout",
     "output_type": "stream",
     "text": [
      "Requirement already satisfied: tweepy in /Users/abelthf/projects/data_mining_twitter/env/lib/python3.7/site-packages (3.8.0)\n",
      "Requirement already satisfied: PySocks>=1.5.7 in /Users/abelthf/projects/data_mining_twitter/env/lib/python3.7/site-packages (from tweepy) (1.7.1)\n",
      "Requirement already satisfied: requests>=2.11.1 in /Users/abelthf/projects/data_mining_twitter/env/lib/python3.7/site-packages (from tweepy) (2.23.0)\n",
      "Requirement already satisfied: six>=1.10.0 in /Users/abelthf/projects/data_mining_twitter/env/lib/python3.7/site-packages (from tweepy) (1.14.0)\n",
      "Requirement already satisfied: requests-oauthlib>=0.7.0 in /Users/abelthf/projects/data_mining_twitter/env/lib/python3.7/site-packages (from tweepy) (1.3.0)\n",
      "Requirement already satisfied: urllib3!=1.25.0,!=1.25.1,<1.26,>=1.21.1 in /Users/abelthf/projects/data_mining_twitter/env/lib/python3.7/site-packages (from requests>=2.11.1->tweepy) (1.25.8)\n",
      "Requirement already satisfied: idna<3,>=2.5 in /Users/abelthf/projects/data_mining_twitter/env/lib/python3.7/site-packages (from requests>=2.11.1->tweepy) (2.9)\n",
      "Requirement already satisfied: chardet<4,>=3.0.2 in /Users/abelthf/projects/data_mining_twitter/env/lib/python3.7/site-packages (from requests>=2.11.1->tweepy) (3.0.4)\n",
      "Requirement already satisfied: certifi>=2017.4.17 in /Users/abelthf/projects/data_mining_twitter/env/lib/python3.7/site-packages (from requests>=2.11.1->tweepy) (2019.11.28)\n",
      "Requirement already satisfied: oauthlib>=3.0.0 in /Users/abelthf/projects/data_mining_twitter/env/lib/python3.7/site-packages (from requests-oauthlib>=0.7.0->tweepy) (3.1.0)\n",
      "\u001b[33mYou are using pip version 19.0.3, however version 20.0.2 is available.\n",
      "You should consider upgrading via the 'pip install --upgrade pip' command.\u001b[0m\n",
      "Note: you may need to restart the kernel to use updated packages.\n"
     ]
    }
   ],
   "source": [
    "pip install tweepy"
   ]
  },
  {
   "cell_type": "markdown",
   "metadata": {},
   "source": [
    "Es posible que los usuarios de Windows tengan que ejecutar la solicitud de Anaconda como administrador para obtener los privilegios de instalación de software adecuados. Para hacerlo, haga clic con el botón derecho en Anaconda en el menú de inicio y seleccione Más> Ejecutar como administrador.  More > Run as  administrator.\n"
   ]
  },
  {
   "cell_type": "markdown",
   "metadata": {},
   "source": [
    "**Instalando geopy**\n",
    "\n",
    "Mientras trabajas con Tweepy, también usarás funciones de nuestro archivo tweetutilities.py (proporcionado con el código de ejemplo de este capítulo). Una de las funciones de utilidad en ese archivo depende de la biblioteca Geopy (https://github.com/geopy/geopy), que veremos en la sección 12.15. Para instalar Geopy, ejecute:"
   ]
  },
  {
   "cell_type": "code",
   "execution_count": 33,
   "metadata": {},
   "outputs": [
    {
     "name": "stdout",
     "output_type": "stream",
     "text": [
      "Requirement already satisfied: geopy in /Users/abelthf/projects/data_mining_twitter/env/lib/python3.7/site-packages (1.21.0)\n",
      "Requirement already satisfied: geographiclib<2,>=1.49 in /Users/abelthf/projects/data_mining_twitter/env/lib/python3.7/site-packages (from geopy) (1.50)\n",
      "\u001b[33mYou are using pip version 19.0.3, however version 20.0.2 is available.\n",
      "You should consider upgrading via the 'pip install --upgrade pip' command.\u001b[0m\n",
      "Note: you may need to restart the kernel to use updated packages.\n"
     ]
    }
   ],
   "source": [
    "pip install geopy"
   ]
  },
  {
   "cell_type": "markdown",
   "metadata": {},
   "source": [
    "## AUTENTICACIÓN CON TWITTER VIA TWEEPY\n",
    "\n",
    "En las siguientes líneas, invocarás varias API de Twitter basadas en la nube a través de Tweepy. Aquí comenzarás a usar Tweepy para autenticarte con Twitter y crear un objeto de Tweepy API, que es tu puerta de entrada para usar las API de Twitter a través de Internet. En las secciones siguientes, trabajará con varias API de Twitter invocando métodos en su objeto API.\n",
    "\n",
    "Antes de poder invocar cualquier API de Twitter, debe usar su clave de API, API Secret key, access token y access token secret para autenticar con Twitter. ejecutar **IPython** desde la carpeta donde se encuentran los codigos fuente proporcionados, luego _importa el módulo tweepy_ y el **archivo** _keys.py_ que modificó anteriormente. Puede importar cualquier archivo .py como módulo utilizando el nombre del archivo sin la extensión .py en una declaración de _import_\n",
    "\n",
    "Es posible que desee crear aplicaciones que permitan a los usuarios iniciar sesión en sus cuentas de Twitter, administrarlas, publicar tweets, leer tweets de otros usuarios, buscar tweets, etc. Para obtener más información sobre la autenticación de usuarios, consulte el tutorial de autenticación de Tweepy en:\n",
    "http://docs.tweepy.org/en/latest/auth_tutorial.html\n"
   ]
  },
  {
   "cell_type": "markdown",
   "metadata": {},
   "source": [
    "## Importamos la libreria y las credenciales"
   ]
  },
  {
   "cell_type": "code",
   "execution_count": 1,
   "metadata": {},
   "outputs": [],
   "source": [
    "import tweepy"
   ]
  },
  {
   "cell_type": "code",
   "execution_count": 2,
   "metadata": {},
   "outputs": [],
   "source": [
    "import keys"
   ]
  },
  {
   "cell_type": "markdown",
   "metadata": {},
   "source": [
    "Cuando importa keys.py como un módulo, puede acceder individualmente a cada una de las cuatro variables definidas en ese archivo como keys.variable_name.\n"
   ]
  },
  {
   "cell_type": "markdown",
   "metadata": {},
   "source": [
    "## Creando y configurando OauthHandler para autenticar con Twitter\n",
    "\n",
    "La autenticación con Twitter a través de Tweepy implica **dos pasos**. **Primero**, cree un objeto de la clase **OAuthHandler** del módulo tweepy, pasando su **API key** y su **API secret key** a su constructor. Un constructor es una función que tiene el mismo nombre que la clase (en este caso, OAuthHandler) y recibe los argumentos utilizados para configurar el nuevo objeto:"
   ]
  },
  {
   "cell_type": "code",
   "execution_count": 3,
   "metadata": {},
   "outputs": [],
   "source": [
    "auth = tweepy.OAuthHandler(keys.consumer_key, keys.consumer_secret)"
   ]
  },
  {
   "cell_type": "code",
   "execution_count": 4,
   "metadata": {},
   "outputs": [],
   "source": [
    "auth.set_access_token(keys.access_token, keys.access_token_secret)"
   ]
  },
  {
   "cell_type": "markdown",
   "metadata": {},
   "source": [
    "## Creando un objeto API "
   ]
  },
  {
   "cell_type": "code",
   "execution_count": 5,
   "metadata": {},
   "outputs": [],
   "source": [
    "In [15]: api = tweepy.API(auth, wait_on_rate_limit=True, wait_on_rate_limit_notify=True)"
   ]
  },
  {
   "cell_type": "markdown",
   "metadata": {},
   "source": [
    "Especificamos tres argumentos en esta llamada al constructor de API:\n",
    "* auth es el objeto **OAuthHandler** que contiene las credenciales.\n",
    "* El argumento keyword  wait_on_rate_limit=True le dice a Tweepy que espere 15 minutos cada vez que alcanza el límite de rate de un determinado método API. Esto garantiza que no se violen las restricciones de rate-limit de Twitter.\n",
    "* El argumento keyword wait_on_rate_limit_notify = True le dice a Tweepy que, si necesita esperar debido a los límites de la tasa, debe notificarlo mostrando un mensaje en la línea de comandos.\n",
    "\n",
    "Ya estás listo para interactuar con Twitter a través de Tweepy. Tenga en cuenta que los ejemplos de código en las siguientes secciones se presentan como una sesión continua de IPython, por lo que no es necesario repetir el proceso de autorización que realizó aquí.\n"
   ]
  },
  {
   "cell_type": "markdown",
   "metadata": {},
   "source": [
    "### OBTENER INFORMACIÓN SOBRE UNA CUENTA DE TWITTER"
   ]
  },
  {
   "cell_type": "code",
   "execution_count": 8,
   "metadata": {},
   "outputs": [],
   "source": [
    "rector = api.get_user('GluderQuispe')"
   ]
  },
  {
   "cell_type": "code",
   "execution_count": 12,
   "metadata": {},
   "outputs": [
    {
     "data": {
      "text/plain": [
       "766480172"
      ]
     },
     "execution_count": 12,
     "metadata": {},
     "output_type": "execute_result"
    }
   ],
   "source": [
    "rector.id"
   ]
  },
  {
   "cell_type": "code",
   "execution_count": 13,
   "metadata": {},
   "outputs": [
    {
     "data": {
      "text/plain": [
       "'Gluder Quispe'"
      ]
     },
     "execution_count": 13,
     "metadata": {},
     "output_type": "execute_result"
    }
   ],
   "source": [
    "rector.name"
   ]
  },
  {
   "cell_type": "code",
   "execution_count": 14,
   "metadata": {},
   "outputs": [
    {
     "data": {
      "text/plain": [
       "'GluderQuispe'"
      ]
     },
     "execution_count": 14,
     "metadata": {},
     "output_type": "execute_result"
    }
   ],
   "source": [
    "rector.screen_name"
   ]
  },
  {
   "cell_type": "code",
   "execution_count": 15,
   "metadata": {},
   "outputs": [
    {
     "data": {
      "text/plain": [
       "'Rector de la Universidad Peruana Union.'"
      ]
     },
     "execution_count": 15,
     "metadata": {},
     "output_type": "execute_result"
    }
   ],
   "source": [
    "rector.description"
   ]
  },
  {
   "cell_type": "markdown",
   "metadata": {},
   "source": [
    "### Otener la actualización de estado más reciente"
   ]
  },
  {
   "cell_type": "code",
   "execution_count": 17,
   "metadata": {
    "scrolled": true
   },
   "outputs": [
    {
     "data": {
      "text/plain": [
       "'Acompáñenos en el programa SALUD TOTAL de la Universidad Peruana Unión, hoy con el tema: Estrategias generales de p… https://t.co/MtnD9ITT1A'"
      ]
     },
     "execution_count": 17,
     "metadata": {},
     "output_type": "execute_result"
    }
   ],
   "source": [
    "rector.status.text"
   ]
  },
  {
   "cell_type": "markdown",
   "metadata": {},
   "source": [
    "### Obteniendo el número de seguidores"
   ]
  },
  {
   "cell_type": "code",
   "execution_count": 18,
   "metadata": {},
   "outputs": [
    {
     "data": {
      "text/plain": [
       "3742"
      ]
     },
     "execution_count": 18,
     "metadata": {},
     "output_type": "execute_result"
    }
   ],
   "source": [
    "rector.followers_count"
   ]
  },
  {
   "cell_type": "markdown",
   "metadata": {},
   "source": [
    "### Obtener el número de amigos"
   ]
  },
  {
   "cell_type": "code",
   "execution_count": 19,
   "metadata": {},
   "outputs": [
    {
     "data": {
      "text/plain": [
       "111"
      ]
     },
     "execution_count": 19,
     "metadata": {},
     "output_type": "execute_result"
    }
   ],
   "source": [
    "rector.friends_count"
   ]
  },
  {
   "cell_type": "markdown",
   "metadata": {},
   "source": [
    "### Obtención de la información de su propia cuenta"
   ]
  },
  {
   "cell_type": "code",
   "execution_count": 21,
   "metadata": {},
   "outputs": [],
   "source": [
    "yo = api.me()"
   ]
  },
  {
   "cell_type": "code",
   "execution_count": 22,
   "metadata": {},
   "outputs": [
    {
     "data": {
      "text/plain": [
       "User(_api=<tweepy.api.API object at 0x10f9f08d0>, _json={'id': 1124495767534596096, 'id_str': '1124495767534596096', 'name': 'Abel Huanca', 'screen_name': 'AbelHuancaT', 'location': '', 'profile_location': None, 'description': 'Entusiasta de la informática', 'url': None, 'entities': {'description': {'urls': []}}, 'protected': False, 'followers_count': 2, 'friends_count': 0, 'listed_count': 0, 'created_at': 'Sat May 04 02:07:37 +0000 2019', 'favourites_count': 0, 'utc_offset': None, 'time_zone': None, 'geo_enabled': True, 'verified': False, 'statuses_count': 3, 'lang': None, 'status': {'created_at': 'Tue Jul 23 01:01:14 +0000 2019', 'id': 1153470090949615616, 'id_str': '1153470090949615616', 'text': 'disfrutando del frio', 'truncated': False, 'entities': {'hashtags': [], 'symbols': [], 'user_mentions': [], 'urls': []}, 'source': '<a href=\"http://twitter.com\" rel=\"nofollow\">Twitter Web Client</a>', 'in_reply_to_status_id': None, 'in_reply_to_status_id_str': None, 'in_reply_to_user_id': None, 'in_reply_to_user_id_str': None, 'in_reply_to_screen_name': None, 'geo': None, 'coordinates': None, 'place': {'id': '2dfa9ecb0179a4e4', 'url': 'https://api.twitter.com/1.1/geo/id/2dfa9ecb0179a4e4.json', 'place_type': 'country', 'name': 'Peru', 'full_name': 'Peru', 'country_code': 'PE', 'country': 'Peru', 'contained_within': [], 'bounding_box': {'type': 'Polygon', 'coordinates': [[[-81.3281479193672, -18.3497280290367], [-68.6730880806328, -18.3497280290367], [-68.6730880806328, -0.0388399739132714], [-81.3281479193672, -0.0388399739132714]]]}, 'attributes': {}}, 'contributors': None, 'is_quote_status': False, 'retweet_count': 0, 'favorite_count': 0, 'favorited': False, 'retweeted': False, 'lang': 'es'}, 'contributors_enabled': False, 'is_translator': False, 'is_translation_enabled': False, 'profile_background_color': 'F5F8FA', 'profile_background_image_url': None, 'profile_background_image_url_https': None, 'profile_background_tile': False, 'profile_image_url': 'http://pbs.twimg.com/profile_images/1247352715371581441/C7Ybuuzh_normal.jpg', 'profile_image_url_https': 'https://pbs.twimg.com/profile_images/1247352715371581441/C7Ybuuzh_normal.jpg', 'profile_link_color': '1DA1F2', 'profile_sidebar_border_color': 'C0DEED', 'profile_sidebar_fill_color': 'DDEEF6', 'profile_text_color': '333333', 'profile_use_background_image': True, 'has_extended_profile': False, 'default_profile': True, 'default_profile_image': False, 'following': False, 'follow_request_sent': False, 'notifications': False, 'translator_type': 'none', 'suspended': False, 'needs_phone_verification': False}, id=1124495767534596096, id_str='1124495767534596096', name='Abel Huanca', screen_name='AbelHuancaT', location='', profile_location=None, description='Entusiasta de la informática', url=None, entities={'description': {'urls': []}}, protected=False, followers_count=2, friends_count=0, listed_count=0, created_at=datetime.datetime(2019, 5, 4, 2, 7, 37), favourites_count=0, utc_offset=None, time_zone=None, geo_enabled=True, verified=False, statuses_count=3, lang=None, status=Status(_api=<tweepy.api.API object at 0x10f9f08d0>, _json={'created_at': 'Tue Jul 23 01:01:14 +0000 2019', 'id': 1153470090949615616, 'id_str': '1153470090949615616', 'text': 'disfrutando del frio', 'truncated': False, 'entities': {'hashtags': [], 'symbols': [], 'user_mentions': [], 'urls': []}, 'source': '<a href=\"http://twitter.com\" rel=\"nofollow\">Twitter Web Client</a>', 'in_reply_to_status_id': None, 'in_reply_to_status_id_str': None, 'in_reply_to_user_id': None, 'in_reply_to_user_id_str': None, 'in_reply_to_screen_name': None, 'geo': None, 'coordinates': None, 'place': {'id': '2dfa9ecb0179a4e4', 'url': 'https://api.twitter.com/1.1/geo/id/2dfa9ecb0179a4e4.json', 'place_type': 'country', 'name': 'Peru', 'full_name': 'Peru', 'country_code': 'PE', 'country': 'Peru', 'contained_within': [], 'bounding_box': {'type': 'Polygon', 'coordinates': [[[-81.3281479193672, -18.3497280290367], [-68.6730880806328, -18.3497280290367], [-68.6730880806328, -0.0388399739132714], [-81.3281479193672, -0.0388399739132714]]]}, 'attributes': {}}, 'contributors': None, 'is_quote_status': False, 'retweet_count': 0, 'favorite_count': 0, 'favorited': False, 'retweeted': False, 'lang': 'es'}, created_at=datetime.datetime(2019, 7, 23, 1, 1, 14), id=1153470090949615616, id_str='1153470090949615616', text='disfrutando del frio', truncated=False, entities={'hashtags': [], 'symbols': [], 'user_mentions': [], 'urls': []}, source='Twitter Web Client', source_url='http://twitter.com', in_reply_to_status_id=None, in_reply_to_status_id_str=None, in_reply_to_user_id=None, in_reply_to_user_id_str=None, in_reply_to_screen_name=None, geo=None, coordinates=None, place=Place(_api=<tweepy.api.API object at 0x10f9f08d0>, id='2dfa9ecb0179a4e4', url='https://api.twitter.com/1.1/geo/id/2dfa9ecb0179a4e4.json', place_type='country', name='Peru', full_name='Peru', country_code='PE', country='Peru', contained_within=[], bounding_box=BoundingBox(_api=<tweepy.api.API object at 0x10f9f08d0>, type='Polygon', coordinates=[[[-81.3281479193672, -18.3497280290367], [-68.6730880806328, -18.3497280290367], [-68.6730880806328, -0.0388399739132714], [-81.3281479193672, -0.0388399739132714]]]), attributes={}), contributors=None, is_quote_status=False, retweet_count=0, favorite_count=0, favorited=False, retweeted=False, lang='es'), contributors_enabled=False, is_translator=False, is_translation_enabled=False, profile_background_color='F5F8FA', profile_background_image_url=None, profile_background_image_url_https=None, profile_background_tile=False, profile_image_url='http://pbs.twimg.com/profile_images/1247352715371581441/C7Ybuuzh_normal.jpg', profile_image_url_https='https://pbs.twimg.com/profile_images/1247352715371581441/C7Ybuuzh_normal.jpg', profile_link_color='1DA1F2', profile_sidebar_border_color='C0DEED', profile_sidebar_fill_color='DDEEF6', profile_text_color='333333', profile_use_background_image=True, has_extended_profile=False, default_profile=True, default_profile_image=False, following=False, follow_request_sent=False, notifications=False, translator_type='none', suspended=False, needs_phone_verification=False)"
      ]
     },
     "execution_count": 22,
     "metadata": {},
     "output_type": "execute_result"
    }
   ],
   "source": [
    "yo"
   ]
  },
  {
   "cell_type": "markdown",
   "metadata": {},
   "source": [
    "## INTRODUCCIÓN A TWEEPY CURSORS: OBTENER SEGUIDORES Y AMIGOS DE LA CUENTA"
   ]
  },
  {
   "cell_type": "markdown",
   "metadata": {},
   "source": [
    "http://docs.tweepy.org/en/latest/cursor_tutorial.html"
   ]
  },
  {
   "cell_type": "markdown",
   "metadata": {},
   "source": [
    "### Determinar los seguidores de una cuenta"
   ]
  },
  {
   "cell_type": "code",
   "execution_count": 23,
   "metadata": {},
   "outputs": [],
   "source": [
    "followers = []"
   ]
  },
  {
   "cell_type": "markdown",
   "metadata": {},
   "source": [
    "### Creando un cursor"
   ]
  },
  {
   "cell_type": "code",
   "execution_count": 26,
   "metadata": {},
   "outputs": [],
   "source": [
    "cursor = tweepy.Cursor(api.followers, screen_name='GluderQuispe')"
   ]
  },
  {
   "cell_type": "markdown",
   "metadata": {},
   "source": [
    "### Obteniendo resultados"
   ]
  },
  {
   "cell_type": "code",
   "execution_count": 27,
   "metadata": {},
   "outputs": [],
   "source": [
    "for account in cursor.items(10):\n",
    "    followers.append(account.screen_name)"
   ]
  },
  {
   "cell_type": "code",
   "execution_count": 28,
   "metadata": {},
   "outputs": [
    {
     "name": "stdout",
     "output_type": "stream",
     "text": [
      "Followers: AbelBareiro1 DavidAdrianZui1 DavidAsmat5 elciocr5 EMinyetty Jico91527307 MilesGanoza RonaldAgusI ruthmar24hotma1 Xiomara18_01\n"
     ]
    }
   ],
   "source": [
    "print('Followers:', ' '.join(sorted(followers, key=lambda s: s.lower())))"
   ]
  },
  {
   "cell_type": "markdown",
   "metadata": {},
   "source": [
    "### Paginación automática "
   ]
  },
  {
   "cell_type": "code",
   "execution_count": 30,
   "metadata": {},
   "outputs": [],
   "source": [
    "cursor = tweepy.Cursor(api.followers, screen_name='GluderQuisoe', count=10)"
   ]
  },
  {
   "cell_type": "markdown",
   "metadata": {},
   "source": [
    "### Determinar a quién sigue una cuenta"
   ]
  },
  {
   "cell_type": "code",
   "execution_count": 35,
   "metadata": {},
   "outputs": [
    {
     "name": "stdout",
     "output_type": "stream",
     "text": [
      "Friends: EncyclopediaSDA FreddyRoblesL perusilee pradolfosuarez prdavifranca prevandrofavero SuneduPeru tecnoedumx union_pe UPeUJuliaca\n"
     ]
    }
   ],
   "source": [
    "amigos = []\n",
    "cursor = tweepy.Cursor(api.friends, screen_name='GluderQuispe')\n",
    "for amigo in cursor.items(10):\n",
    "    amigos.append(amigo.screen_name)\n",
    "\n",
    "print('Friends:', ' '.join(sorted(amigos, key=lambda s: s.lower())))\n"
   ]
  },
  {
   "cell_type": "markdown",
   "metadata": {},
   "source": [
    "### Obtener los Tweets recientes de  un Usuario"
   ]
  },
  {
   "cell_type": "code",
   "execution_count": 36,
   "metadata": {},
   "outputs": [],
   "source": [
    "rector_tweets = api.user_timeline(screen_name='GluderQuispe', count='3')"
   ]
  },
  {
   "cell_type": "code",
   "execution_count": 37,
   "metadata": {},
   "outputs": [
    {
     "name": "stdout",
     "output_type": "stream",
     "text": [
      "GluderQuispe: Acompáñenos en el programa SALUD TOTAL de la Universidad Peruana Unión, hoy con el tema: Estrategias generales de p… https://t.co/MtnD9ITT1A\n",
      "\n",
      "GluderQuispe: La buena salud está relacionada con el bienestar mental y psicológico, por esto la UPeU presenta hoy, a través de s… https://t.co/vAT4W61RBT\n",
      "\n",
      "GluderQuispe: RT @UPeUOficial: ¡La educación no se detiene y cambia las vidas en todo el mundo! ¡El conocimiento te da la oportunidad de marcar la difere…\n",
      "\n"
     ]
    }
   ],
   "source": [
    "for tweet in rector_tweets:\n",
    "    print(f'{tweet.user.screen_name}: {tweet.text}\\n')\n"
   ]
  },
  {
   "cell_type": "markdown",
   "metadata": {},
   "source": [
    "### Recibir tweets recientes de su propia línea de tiempo"
   ]
  },
  {
   "cell_type": "code",
   "execution_count": 38,
   "metadata": {},
   "outputs": [
    {
     "data": {
      "text/plain": [
       "[]"
      ]
     },
     "execution_count": 38,
     "metadata": {},
     "output_type": "execute_result"
    }
   ],
   "source": [
    "api.home_timeline()"
   ]
  },
  {
   "cell_type": "markdown",
   "metadata": {},
   "source": [
    "## BUSCANDO TWEETS RECIENTES\n",
    "### Función de utilidad print_tweets de tweetutilities.py"
   ]
  },
  {
   "cell_type": "code",
   "execution_count": 39,
   "metadata": {},
   "outputs": [],
   "source": [
    "from tweetutilities import print_tweets"
   ]
  },
  {
   "cell_type": "markdown",
   "metadata": {},
   "source": [
    "A continuación, se muestra la definición de la función print_tweets de ese archivo:\n"
   ]
  },
  {
   "cell_type": "markdown",
   "metadata": {},
   "source": [
    "```python\n",
    "\n",
    "def print_tweets(tweets):\n",
    "    \"\"\"For each Tweepy Status object in tweets, display the\n",
    "    user's screen_name and tweet text. If the language is not\n",
    "    English, translate the text with TextBlob.\"\"\"\n",
    "    for tweet in tweets:\n",
    "        print(f'{tweet.user.screen_name}:', end=' ')\n",
    "\n",
    "        if 'en' in tweet.lang:\n",
    "            print(f'{tweet.text}\\n')\n",
    "        elif 'und' not in tweet.lang:  # translate to English first\n",
    "            print(f'\\n  ORIGINAL: {tweet.text}')\n",
    "            print(f'TRANSLATED: {TextBlob(tweet.text).translate()}\\n')\n",
    "\n",
    "```\n"
   ]
  },
  {
   "cell_type": "markdown",
   "metadata": {},
   "source": [
    "### Buscando palabras específicas"
   ]
  },
  {
   "cell_type": "code",
   "execution_count": 44,
   "metadata": {},
   "outputs": [],
   "source": [
    "from tweetutilities import print_tweets"
   ]
  },
  {
   "cell_type": "code",
   "execution_count": 45,
   "metadata": {},
   "outputs": [],
   "source": [
    "tweets = api.search(q='covid-19', count=3)"
   ]
  },
  {
   "cell_type": "code",
   "execution_count": 46,
   "metadata": {},
   "outputs": [
    {
     "name": "stdout",
     "output_type": "stream",
     "text": [
      "NaamaAshish: RT @hvgoenka: A husband and wife team fighting COVID-19 together. They work all 7 days for 18 hours a day and they can't touch each other e…\n",
      "\n",
      "amcsda: \n",
      "  ORIGINAL: RT @vpartal: Francesc Maristany: ‘Podríem portar un milió de proves de la Covid-19 cada setmana’ https://t.co/exO7lazopF\n",
      "TRANSLATED: RT @vpartal: Francesc Maristany: 'We could take a million tests of Covid-19 every week' https://t.co/exO7lazopF\n",
      "\n",
      "MohanMe240089: RT @KumarGa91173890: In quest for developing indigenous solutions to combat the Covid 19 Pandemic, \n",
      "#DRDO is ready with \n",
      "technologies for s…\n",
      "\n"
     ]
    }
   ],
   "source": [
    "print_tweets(tweets)"
   ]
  },
  {
   "cell_type": "markdown",
   "metadata": {},
   "source": [
    "### Buscando con los operadores de búsqueda de Twitter\n",
    "\n",
    "Puede usar varios operadores de búsqueda de Twitter en sus cadenas de consulta para refinar sus resultados de búsqueda. La siguiente tabla muestra varios operadores de búsqueda de Twitter. Se pueden combinar múltiples operadores para construir consultas más complejas.\n",
    "\n",
    "* **python twitter** : Operador lógico y implícito: encuentra tweets que contienen python y twitter\n",
    "\n",
    "* **python OR twitter**: Operador lógico OR: encuentra tweets que contienen python o twitter o ambos.\n",
    " \n",
    "* **python ?**: ? (signo de interrogación): encuentra tweets que hacen preguntas sobre Python.\n",
    "\n",
    "* **planets -mars**: - (signo menos): encuentra tweets que contienen planets pero no mart.\n",
    "\n",
    "* **python :)**: :) (cara feliz): encuentra tweets de sentimientos positivos que contienen python.\n",
    "\n",
    "* **python :(**: :( (cara triste): encuentra los tweets de sentimientos negativos que contienen el python.\n",
    "\n",
    "* **since:2020-04-01**: Encuentra tweets en o después de la fecha especificada, que debe estar en el formulario. YYYY­MM­DD.\n",
    "\n",
    "* **near:\"New York City\"**: Encuentra tweets que fueron enviados cerca de \"New York City\".\n",
    "\n",
    "* **from:GluderQuispe**: Encuentra tweets de la cuenta @GluderQuispe.\n",
    "\n",
    "* **to:GluderQuispe**: Finds tweets to the account @GluderQuispe."
   ]
  },
  {
   "cell_type": "code",
   "execution_count": 47,
   "metadata": {},
   "outputs": [],
   "source": [
    "tweets = api.search(q='from:GluderQuispe since:2019-01-01', count=3)"
   ]
  },
  {
   "cell_type": "code",
   "execution_count": 48,
   "metadata": {},
   "outputs": [
    {
     "name": "stdout",
     "output_type": "stream",
     "text": [
      "GluderQuispe: \n",
      "  ORIGINAL: Acompáñenos en el programa SALUD TOTAL de la Universidad Peruana Unión, hoy con el tema: Estrategias generales de p… https://t.co/MtnD9ITT1A\n",
      "TRANSLATED: Join us in the TOTAL HEALTH program of the Universidad Peruana Unión, today with the theme: General strategies of p… https://t.co/MtnD9ITT1A\n",
      "\n",
      "GluderQuispe: \n",
      "  ORIGINAL: La buena salud está relacionada con el bienestar mental y psicológico, por esto la UPeU presenta hoy, a través de s… https://t.co/vAT4W61RBT\n",
      "TRANSLATED: Good health is related to mental and psychological well-being, that is why the UPeU presents today, through s… https://t.co/vAT4W61RBT\n",
      "\n",
      "GluderQuispe: \n",
      "  ORIGINAL: RT @UPeUOficial: ¡La educación no se detiene y cambia las vidas en todo el mundo! ¡El conocimiento te da la oportunidad de marcar la difere…\n",
      "TRANSLATED: RT @UPeUOficial: Education does not stop and changes lives around the world! Knowledge gives you the opportunity to make a difference…\n",
      "\n"
     ]
    }
   ],
   "source": [
    "print_tweets(tweets)"
   ]
  },
  {
   "cell_type": "markdown",
   "metadata": {},
   "source": [
    "### Buscando un Hashtag"
   ]
  },
  {
   "cell_type": "code",
   "execution_count": 51,
   "metadata": {},
   "outputs": [],
   "source": [
    "tweets = api.search(q='#YoMeQuedoEnCasa', count=2)"
   ]
  },
  {
   "cell_type": "code",
   "execution_count": 52,
   "metadata": {},
   "outputs": [
    {
     "name": "stdout",
     "output_type": "stream",
     "text": [
      "Albertorrijosla: \n",
      "  ORIGINAL: Algo muy chungo pasa cuando tienen a Optimus ayudando......#YoMeQuedoEnCasa #optimusprime #autobots #transformers https://t.co/u1LW5kHU0T\n",
      "TRANSLATED: Something very sketchy happens when they have Optimus helping ...... # YoMeQuedoEnCasa #optimusprime #autobots #transformers https://t.co/u1LW5kHU0T\n",
      "\n",
      "GarabitoMate: \n",
      "  ORIGINAL: RT @realmadrid: 🏡🏆🤩 ¡#RMFansEnCasa, hoy revivimos la DUODÉCIMA! ¡Volvemos al 2017, a la ciudad de Cardiff, para rememorar nuestra fantástic…\n",
      "TRANSLATED: RT @realmadrid: 🏡🏆🤩 #RMFansEnCasa, today we relive the TWELFTH! We return to 2017, to the city of Cardiff, to remember our fantastic ...\n",
      "\n"
     ]
    }
   ],
   "source": [
    "print_tweets(tweets)"
   ]
  },
  {
   "cell_type": "markdown",
   "metadata": {},
   "source": [
    "### TENDENCIAS DE SPOTTING: TWITTER TRENDS API "
   ]
  },
  {
   "cell_type": "markdown",
   "metadata": {},
   "source": [
    "## Lugares con temas de tendencias"
   ]
  },
  {
   "cell_type": "code",
   "execution_count": 53,
   "metadata": {},
   "outputs": [],
   "source": [
    "trends_available = api.trends_available()"
   ]
  },
  {
   "cell_type": "code",
   "execution_count": 54,
   "metadata": {},
   "outputs": [
    {
     "data": {
      "text/plain": [
       "467"
      ]
     },
     "execution_count": 54,
     "metadata": {},
     "output_type": "execute_result"
    }
   ],
   "source": [
    "len(trends_available)"
   ]
  },
  {
   "cell_type": "code",
   "execution_count": 55,
   "metadata": {},
   "outputs": [
    {
     "data": {
      "text/plain": [
       "{'name': 'Worldwide',\n",
       " 'placeType': {'code': 19, 'name': 'Supername'},\n",
       " 'url': 'http://where.yahooapis.com/v1/place/1',\n",
       " 'parentid': 0,\n",
       " 'country': '',\n",
       " 'woeid': 1,\n",
       " 'countryCode': None}"
      ]
     },
     "execution_count": 55,
     "metadata": {},
     "output_type": "execute_result"
    }
   ],
   "source": [
    "trends_available[0]"
   ]
  },
  {
   "cell_type": "code",
   "execution_count": 60,
   "metadata": {},
   "outputs": [],
   "source": [
    " world_trends = api.trends_place(id=1)"
   ]
  },
  {
   "cell_type": "code",
   "execution_count": 62,
   "metadata": {},
   "outputs": [],
   "source": [
    "trends_list = world_trends[0]['trends']"
   ]
  },
  {
   "cell_type": "code",
   "execution_count": 63,
   "metadata": {},
   "outputs": [
    {
     "data": {
      "text/plain": [
       "{'name': '#あなたを家庭用ゲーム機に例えたら',\n",
       " 'url': 'http://twitter.com/search?q=%23%E3%81%82%E3%81%AA%E3%81%9F%E3%82%92%E5%AE%B6%E5%BA%AD%E7%94%A8%E3%82%B2%E3%83%BC%E3%83%A0%E6%A9%9F%E3%81%AB%E4%BE%8B%E3%81%88%E3%81%9F%E3%82%89',\n",
       " 'promoted_content': None,\n",
       " 'query': '%23%E3%81%82%E3%81%AA%E3%81%9F%E3%82%92%E5%AE%B6%E5%BA%AD%E7%94%A8%E3%82%B2%E3%83%BC%E3%83%A0%E6%A9%9F%E3%81%AB%E4%BE%8B%E3%81%88%E3%81%9F%E3%82%89',\n",
       " 'tweet_volume': 10158}"
      ]
     },
     "execution_count": 63,
     "metadata": {},
     "output_type": "execute_result"
    }
   ],
   "source": [
    "trends_list[0]"
   ]
  },
  {
   "cell_type": "code",
   "execution_count": 64,
   "metadata": {},
   "outputs": [],
   "source": [
    "trends_list = [t for t in trends_list if t['tweet_volume']]"
   ]
  },
  {
   "cell_type": "code",
   "execution_count": 65,
   "metadata": {},
   "outputs": [],
   "source": [
    "from operator import itemgetter"
   ]
  },
  {
   "cell_type": "code",
   "execution_count": 66,
   "metadata": {},
   "outputs": [],
   "source": [
    "trends_list.sort(key=itemgetter('tweet_volume'), reverse=True)"
   ]
  },
  {
   "cell_type": "code",
   "execution_count": 69,
   "metadata": {},
   "outputs": [
    {
     "name": "stdout",
     "output_type": "stream",
     "text": [
      "#เราไม่ทิ้งกัน\n",
      "#Pushpa\n",
      "#सतभक्ति_क्यों_ज़रूरी\n",
      "#Midnight\n",
      "Rafael Portugal\n",
      "John Prine\n",
      "#HanumanJayanti\n",
      "#SB19is8inBBS50\n",
      "#LiveAtLunchxNew\n",
      "#광활한_우주에서_만난_엑소와_엑소엘\n"
     ]
    }
   ],
   "source": [
    "for trend in trends_list[:10]:\n",
    "    print(trend['name'])"
   ]
  },
  {
   "cell_type": "markdown",
   "metadata": {},
   "source": [
    "### Temas de tendencias de la ciudad de Nueva York"
   ]
  },
  {
   "cell_type": "code",
   "execution_count": 115,
   "metadata": {},
   "outputs": [],
   "source": [
    "nyc_trends = api.trends_place(id=23424801) # Ecuador WOEID"
   ]
  },
  {
   "cell_type": "code",
   "execution_count": 116,
   "metadata": {},
   "outputs": [],
   "source": [
    "nyc_list = nyc_trends[0]['trends']"
   ]
  },
  {
   "cell_type": "code",
   "execution_count": 117,
   "metadata": {},
   "outputs": [],
   "source": [
    "nyc_list = [t for t in nyc_list if t['tweet_volume']]"
   ]
  },
  {
   "cell_type": "code",
   "execution_count": 118,
   "metadata": {},
   "outputs": [],
   "source": [
    "nyc_list.sort(key=itemgetter('tweet_volume'), reverse=True)"
   ]
  },
  {
   "cell_type": "code",
   "execution_count": 127,
   "metadata": {},
   "outputs": [
    {
     "name": "stdout",
     "output_type": "stream",
     "text": [
      "#우리의_청춘_시대는_엑소라고_부른다\n",
      "#8ternitywithexo\n",
      "#letsloveexo\n",
      "#díamundialdelasalud\n",
      "justicia\n"
     ]
    }
   ],
   "source": [
    "for trend in nyc_list[:5]:\n",
    "    print(trend['name'])"
   ]
  },
  {
   "cell_type": "markdown",
   "metadata": {},
   "source": [
    "### Crear una nube de palabras a partir de temas de tendencias"
   ]
  },
  {
   "cell_type": "code",
   "execution_count": 120,
   "metadata": {},
   "outputs": [],
   "source": [
    "topics = {}"
   ]
  },
  {
   "cell_type": "code",
   "execution_count": 121,
   "metadata": {},
   "outputs": [],
   "source": [
    "for trend in nyc_list:\n",
    "    topics[trend['name']]   = trend['tweet_volume']"
   ]
  },
  {
   "cell_type": "code",
   "execution_count": 122,
   "metadata": {},
   "outputs": [],
   "source": [
    "from wordcloud import WordCloud"
   ]
  },
  {
   "cell_type": "code",
   "execution_count": 124,
   "metadata": {},
   "outputs": [],
   "source": [
    "wordcloud = WordCloud(width=1600,   height=900,\n",
    "    prefer_horizontal=0.5,   min_font_size=10, colormap='prism',\n",
    "    background_color='white')"
   ]
  },
  {
   "cell_type": "code",
   "execution_count": 125,
   "metadata": {},
   "outputs": [],
   "source": [
    "wordcloud = wordcloud.fit_words(topics)"
   ]
  },
  {
   "cell_type": "code",
   "execution_count": 126,
   "metadata": {},
   "outputs": [],
   "source": [
    "wordcloud = wordcloud.to_file('TrendingTwitter.png')"
   ]
  },
  {
   "cell_type": "markdown",
   "metadata": {},
   "source": [
    "---"
   ]
  },
  {
   "cell_type": "markdown",
   "metadata": {},
   "source": [
    "## LIMPIEZA / PREPROCESAMIENTO DE TWEETS PARA ANÁLISIS\n",
    "\n",
    "La limpieza de datos es una de las tareas más comunes que realizan los científicos de datos. Dependiendo de cómo intente procesar los tweets, deberá usar el procesamiento en lenguaje natural para normalizarlos realizando algunas o todas las tareas de limpieza de datos en la siguiente tabla.\n",
    "\n",
    "Muchos de estos pueden realizarse utilizando las bibliotecas introducidas en el capítulo \"Procesamiento de lenguaje natural (PNL)\":\n",
    "\n",
    "Tareas de limpieza de tweets\n",
    "_onvertir todo el texto al mismo caso_: Eliminar stop words\n",
    "_Eliminando el símbolo # de los hashtags_: Eliminar RT (retweet) y FAV (favorite)\n",
    "_Eliminando @mentions_: Eliminar URLs\n",
    "_Eliminar duplicados_: Stemming\n",
    "_Eliminar el exceso de espacio en blanco_: Lemmatización\n",
    "_Eliminar hashtags_: Tokenization\n",
    "_Quitando puntuacion_: \n",
    "\n",
    "## Librería tweet-preprocessor y Funciones de utilidad TextBlob \n",
    "\n",
    "Usaremos la biblioteca de tweet-preprocessor\n",
    "\n",
    "https://github.com/s/preprocessor\n",
    "\n",
    "Para realizar una limpieza básica de tuits. Puede eliminar automáticamente cualquier combinación de: \n",
    "\n",
    "\n",
    "* URLs\n",
    "* @-mentions (like @GluderQuispe),\n",
    "* hashtags (like #mars),\n",
    "* Palabras reservadas de Twitter (like, RT for retweet and FAV for favorite, which is similar to a “like” on other social networks),\n",
    "* emojis (all or just smileys)\n",
    "* números\n",
    "\n",
    "La siguiente tabla muestra las constantes del módulo que representan cada opción: \n",
    "\n",
    "\n",
    "\n",
    "**@-Mentions (Ejem., @GluderQuispe)**: OPT.MENTION\n",
    "**Emoji**: OPT.EMOJI\n",
    "**Hashtag (Ejem., #mars)**: OPT.HASHTAG\n",
    "**Number**: OPT.NUMBER\n",
    "**Palabras reservadas (RT y FAV)**: OPT.RESERVED\n",
    "**Smiley**: OPT.SMILEY\n",
    "**URL**: OPT.URL\n"
   ]
  },
  {
   "cell_type": "markdown",
   "metadata": {},
   "source": [
    "### Instalación de tweet-preprocessor \n",
    "\n",
    "Para instalar el preprocesador de tweets, abra su Prompt Anaconda (Windows), Terminal (macOS / Linux) o shell (Linux), luego emita el siguiente comando:"
   ]
  },
  {
   "cell_type": "code",
   "execution_count": 128,
   "metadata": {},
   "outputs": [
    {
     "name": "stdout",
     "output_type": "stream",
     "text": [
      "Requirement already satisfied: tweet-preprocessor in ./env/lib/python3.7/site-packages (0.5.0)\n",
      "\u001b[33mYou are using pip version 19.0.3, however version 20.0.2 is available.\n",
      "You should consider upgrading via the 'pip install --upgrade pip' command.\u001b[0m\n",
      "Note: you may need to restart the kernel to use updated packages.\n"
     ]
    }
   ],
   "source": [
    "pip install tweet-preprocessor"
   ]
  },
  {
   "cell_type": "markdown",
   "metadata": {},
   "source": [
    "### Limpiando un Tweet\n",
    "\n",
    "Vamos a hacer una limpieza básica de tweets que usaremos en un ejemplo posterior en este capítulo. El nombre del módulo de la biblioteca tweet-preprocesador es preprocessor. Su documentación recomienda que importe el módulo de la siguiente manera:"
   ]
  },
  {
   "cell_type": "code",
   "execution_count": 130,
   "metadata": {},
   "outputs": [],
   "source": [
    "import preprocessor as p"
   ]
  },
  {
   "cell_type": "markdown",
   "metadata": {},
   "source": [
    "Para configurar las opciones de limpieza que desea utilizar, llame a la función set_options del módulo. En este caso, nos gustaría eliminar las URL y las palabras reservadas de Twitter: "
   ]
  },
  {
   "cell_type": "code",
   "execution_count": 133,
   "metadata": {},
   "outputs": [],
   "source": [
    "In [2]: p.set_options(p.OPT.URL,   p.OPT.RESERVED)"
   ]
  },
  {
   "cell_type": "code",
   "execution_count": 135,
   "metadata": {},
   "outputs": [],
   "source": [
    "tweet_text = 'RT A sample   retweet with a URL https://upeu.edu.pe'"
   ]
  },
  {
   "cell_type": "code",
   "execution_count": 136,
   "metadata": {},
   "outputs": [
    {
     "data": {
      "text/plain": [
       "'A sample retweet with a URL'"
      ]
     },
     "execution_count": 136,
     "metadata": {},
     "output_type": "execute_result"
    }
   ],
   "source": [
    "p.clean(tweet_text)"
   ]
  },
  {
   "cell_type": "markdown",
   "metadata": {},
   "source": [
    "---"
   ]
  },
  {
   "cell_type": "markdown",
   "metadata": {},
   "source": [
    " ## API DE STREAMING DE TWITTER\n",
    "\n",
    "La API de Streaming gratuita de Twitter envía a su app tweets seleccionados al azar de forma dinámica a medida que ocurren, hasta un máximo del **uno por ciento** de los tweets por día. Según InternetLiveStats.com, hay aproximadamente **6000 tweets por segundo**, lo que representa **más de 500 millones de tweets por día**.  Por lo tanto, la API de Streaming le da acceso a aproximadamente **cinco millones de tweets por día**. Twitter solía permitir el acceso gratuito al 10% de los tweets de transmisión, pero este servicio, denominado manguera contra incendios, ahora está disponible solo como un servicio de pago. En esta sección, usaremos una definición de clase y una sesión de IPython para recorrer los pasos para procesar los tweets de transmisión. Tenga en cuenta que el código para recibir un flujo de tweet requiere la creación de una clase personalizada que herede de otra clase.\n",
    "\n",
    "### Creando una subclase de StreamListener\n",
    "\n",
    "La API de Streaming devuelve tweets a medida que ocurren que coinciden con los criterios de búsqueda. En lugar de conectar a Twitter en cada llamada de método, una secuencia utiliza una conexión persistent para enviar tweets (es decir, enviar) a su aplicación. La velocidad a la que llegan esos tweets incluyen enormemente, según los criterios de búsqueda. Cuanto más popular es un tema, más probable es que los tweets lleguen rápidamente.\n",
    " \n",
    "Crea una subclase de la clase StreamListener de Tweepy para procesar la secuencia de tweets. Un objeto de esta clase es el listener que recibe una notificación cuando llega cada nuevo tweet (u otro mensaje enviado por Twitter 4) Cada mensaje de Twitter envía resultados en una llamada a un método StreamListener. La siguiente tabla resume varios de estos métodos. StreamListener ya define cada método, por lo que redefine solo los métodos que necesita, esto se conoce como overriding. Para métodos adicionales de StreamListener, vea:\n",
    "\n",
    "https://developer.twitter.com/en/docs/tweets/filterrealtimeguides/streamingmessagetypes.html\n",
    "\n",
    "https://github.com/tweepy/tweepy/blob/master/tweepy/streaming.py\n",
    "\n",
    "\n"
   ]
  },
  {
   "cell_type": "markdown",
   "metadata": {},
   "source": [
    "### Clase TweetListener\n",
    "\n",
    "Nuestra subclase StreamListener de TweetListener se define en tweetlistener.py. Aquí discutimos los componentes de TweetListener. La línea 6 indica que la clase TweetListener es una subclase de tweepy.StreamListener. Esto garantiza que nuestra nueva clase tenga implementaciones de métodos predeterminados de clase StreamListener.\n"
   ]
  },
  {
   "cell_type": "code",
   "execution_count": 139,
   "metadata": {},
   "outputs": [],
   "source": [
    "# tweetlistener.py\n",
    "\"\"\"tweepy.StreamListener subclase que procesa tweets a medida que llegan.\"\"\"\n",
    "import tweepy\n",
    "from textblob import TextBlob\n",
    "\n",
    "# clase TweetListerner: con método init\n",
    "class TweetListener(tweepy.StreamListener):\n",
    "    \"\"\"Maneja la secuencia de Tweet entrante.\"\"\"\n",
    "    def __init__(self, api, limit=10):\n",
    "        \"\"\"Crear variables de instancia para rastrear el número de tweets\"\"\"\n",
    "        self.tweet_count   = 0\n",
    "        self.TWEET_LIMIT   = limit\n",
    "        super().__init__(api) # llama a la superclase init\n",
    "\n",
    "\n",
    "    # método on_ connect\n",
    "    def on_connect(self):\n",
    "        \"\"\"Se llama cuando su intento de conexión es exitoso, lo que le permite realizar tareas de aplicación apropiadas en ese momento.\"\"\"\n",
    "        print('Connection successful\\n')\n",
    "    \n",
    "    # Método on_status\n",
    "    def on_status(self, status):\n",
    "        \"\"\"Se llama cuando Twitter te envía un nuevo tweet.\"\"\"\n",
    "        try:\n",
    "            tweet_text   = status.extended_tweet.full_text\n",
    "        except:\n",
    "            tweet_text   = status.text\n",
    "        \n",
    "        print(f'Screen name: {status.user.screen_name}:')\n",
    "        print(f'   Language: {status.lang}')\n",
    "        print(f'     Status: {tweet_text}')\n",
    "        \n",
    "        if status.lang != 'en':\n",
    "            print(f' Translated: {TextBlob(tweet_text).translate()}')\n",
    "        \n",
    "        print()\n",
    "        \n",
    "        self.tweet_count   += 1  # nto del número de tweets procesados\n",
    "        \n",
    "        # si se alcanza TWEET_LIMIT, devuelve False para finalizar la transmisión\n",
    "        return self.tweet_count != self.TWEET_LIMIT\n",
    "       "
   ]
  },
  {
   "cell_type": "markdown",
   "metadata": {},
   "source": [
    "### Iniciando el procesamiento de Stream\n",
    "\n",
    "Usemos una sesión de IPython para probar nuestro nuevo TweetListener.\n",
    "\n",
    "Autenticando \n",
    "\n",
    "Primero, debes autenticarte con Twitter y crear un objeto Tweepy API:"
   ]
  },
  {
   "cell_type": "code",
   "execution_count": 141,
   "metadata": {},
   "outputs": [],
   "source": [
    "import tweepy"
   ]
  },
  {
   "cell_type": "code",
   "execution_count": 142,
   "metadata": {},
   "outputs": [],
   "source": [
    "import keys"
   ]
  },
  {
   "cell_type": "code",
   "execution_count": 144,
   "metadata": {},
   "outputs": [],
   "source": [
    "auth = tweepy.OAuthHandler(keys.consumer_key,\n",
    "                           keys.consumer_secret)"
   ]
  },
  {
   "cell_type": "code",
   "execution_count": 146,
   "metadata": {},
   "outputs": [],
   "source": [
    "auth.set_access_token(keys.access_token, keys.access_token_secret)"
   ]
  },
  {
   "cell_type": "code",
   "execution_count": 147,
   "metadata": {},
   "outputs": [],
   "source": [
    "api = tweepy.API(auth, wait_on_rate_limit=True, wait_on_rate_limit_notify=True)"
   ]
  },
  {
   "cell_type": "markdown",
   "metadata": {},
   "source": [
    "### Creando un TweetListener\n",
    "\n",
    "A continuación, cree un objeto de la clase TweetListener e inicialícelo con el objeto api:"
   ]
  },
  {
   "cell_type": "code",
   "execution_count": 148,
   "metadata": {},
   "outputs": [],
   "source": [
    "from tweetlistener import TweetListener"
   ]
  },
  {
   "cell_type": "code",
   "execution_count": 153,
   "metadata": {},
   "outputs": [],
   "source": [
    "tweet_listener = TweetListener(api)"
   ]
  },
  {
   "cell_type": "markdown",
   "metadata": {},
   "source": [
    "### Creando un Stream "
   ]
  },
  {
   "cell_type": "code",
   "execution_count": 154,
   "metadata": {},
   "outputs": [],
   "source": [
    "tweet_stream = tweepy.Stream(auth=api.auth, listener=tweet_listener)"
   ]
  },
  {
   "cell_type": "markdown",
   "metadata": {},
   "source": [
    "### Comenzando el Tweet Stream\n",
    "\n",
    "El método filter del objeto Stream comienza el proceso de transmisión. Vamos a rastrear tweets de **covid-19**. Aquí, usamos el parámetro de track para pasar una lista de términos de búsqueda: "
   ]
  },
  {
   "cell_type": "code",
   "execution_count": 159,
   "metadata": {},
   "outputs": [
    {
     "name": "stdout",
     "output_type": "stream",
     "text": [
      "Connection successful\n",
      "\n",
      "Screen name: KhanBab52514301:\n",
      "   Language: en\n",
      "     Status: BEST COVID VIDEO\n",
      "To All MyTwitter Friends-As a Scientist, I Give Scientifically Filtered Information.\n",
      "Good News-No… https://t.co/fciQQpEEPk\n",
      "\n"
     ]
    }
   ],
   "source": [
    "tweet_stream.filter(track=['Covid-19'], is_async=True)"
   ]
  },
  {
   "cell_type": "markdown",
   "metadata": {},
   "source": [
    "### ANÁLISIS DE SENTIMIENTO EN TWEET \n",
    "\n",
    "Muchos investigadores y empresas realizan análisis de sentimientos en tweets. Por ejemplo, los investigadores políticos pueden verificar el sentimiento de los tweets durante la temporada de elecciones para entender cómo se siente la gente sobre los políticos y temas específicos. Las empresas pueden consultar el sentimiento de los tweets para ver qué dicen las personas sobre sus productos y los productos de la competencia."
   ]
  },
  {
   "cell_type": "markdown",
   "metadata": {},
   "source": [
    "ipython sentimentlistener.py covid-19 10"
   ]
  },
  {
   "cell_type": "code",
   "execution_count": null,
   "metadata": {},
   "outputs": [],
   "source": []
  },
  {
   "cell_type": "code",
   "execution_count": null,
   "metadata": {},
   "outputs": [],
   "source": []
  }
 ],
 "metadata": {
  "kernelspec": {
   "display_name": "Python 3",
   "language": "python",
   "name": "python3"
  },
  "language_info": {
   "codemirror_mode": {
    "name": "ipython",
    "version": 3
   },
   "file_extension": ".py",
   "mimetype": "text/x-python",
   "name": "python",
   "nbconvert_exporter": "python",
   "pygments_lexer": "ipython3",
   "version": "3.7.3"
  }
 },
 "nbformat": 4,
 "nbformat_minor": 4
}
